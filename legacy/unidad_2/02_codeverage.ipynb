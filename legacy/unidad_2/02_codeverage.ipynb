{
 "cells": [
  {
   "cell_type": "markdown",
   "metadata": {
    "slideshow": {
     "slide_type": "slide"
    }
   },
   "source": [
    "\n",
    "# Diseño de software para cómputo científico\n",
    "\n",
    "----\n",
    "\n",
    "## Unidad 2: Covertura de código\n"
   ]
  },
  {
   "cell_type": "markdown",
   "metadata": {
    "slideshow": {
     "slide_type": "slide"
    }
   },
   "source": [
    "### Agenda de la Unidad 2\n",
    "---\n",
    "\n",
    "**Clase 1**\n",
    "    \n",
    "    - Calidad de software.\n",
    "    - Principios de diseño: DRY y KISS \n",
    "    - Refactoreo.\n",
    "\n",
    "**Clase 2**\n",
    "    \n",
    "    - Depuración de código.\n",
    "    - Pruebas unitarias y funcionales con pytest.\n",
    "    - Testing basados en propiedades (Hypothesis).\n",
    "\n",
    "**Clase 3**\n",
    "\n",
    "    - Cobertura de código (codecov).\n",
    "    - Perfilado de código\n"
   ]
  },
  {
   "cell_type": "markdown",
   "metadata": {
    "slideshow": {
     "slide_type": "slide"
    }
   },
   "source": [
    "## Problemas con el testeo\n",
    "\n",
    "- Es muy fácil escribir tests que no hagan nada (de hecho podemos escribir 100 funciones vacias y mostrar que los tests pasan)\n",
    "- La cobertura de código es una medida (porcentual) en las pruebas de software que mide el grado en que el código fuente de un programa ha sido comprobado.\n",
    "- Es una forma indirecta de calcular la calidad de un test.\n",
    "- Aun asi puede engañarse al coverage."
   ]
  },
  {
   "cell_type": "markdown",
   "metadata": {
    "slideshow": {
     "slide_type": "slide"
    }
   },
   "source": [
    "## Coverage.py\n",
    "\n",
    "Coverage.py es una herramienta para medir la cobertura de código de los programas Python. Monitorea su programa, observando qué partes del código se han ejecutado, luego analiza la fuente para identificar el código que podría haberse ejecutado pero que no.\n",
    "\n",
    "La medición de cobertura generalmente se usa para medir la efectividad de las pruebas. Puede mostrar qué partes de su código están siendo ejercitadas por las pruebas y cuáles no.\n",
    "\n",
    "https://coverage.readthedocs.io"
   ]
  },
  {
   "cell_type": "code",
   "execution_count": 1,
   "metadata": {},
   "outputs": [
    {
     "name": "stdout",
     "output_type": "stream",
     "text": [
      "Requirement already satisfied: coverage in /home/juan/proyectos/diseno_sci_sfw/lib/python3.7/site-packages (4.5.4)\n",
      "Requirement already satisfied: pytest-cov in /home/juan/proyectos/diseno_sci_sfw/lib/python3.7/site-packages (2.7.1)\n",
      "Requirement already satisfied: pytest>=3.6 in /home/juan/proyectos/diseno_sci_sfw/lib/python3.7/site-packages (from pytest-cov) (5.1.2)\n",
      "Requirement already satisfied: atomicwrites>=1.0 in /home/juan/proyectos/diseno_sci_sfw/lib/python3.7/site-packages (from pytest>=3.6->pytest-cov) (1.3.0)\n",
      "Requirement already satisfied: pluggy<1.0,>=0.12 in /home/juan/proyectos/diseno_sci_sfw/lib/python3.7/site-packages (from pytest>=3.6->pytest-cov) (0.12.0)\n",
      "Requirement already satisfied: more-itertools>=4.0.0 in /home/juan/proyectos/diseno_sci_sfw/lib/python3.7/site-packages (from pytest>=3.6->pytest-cov) (7.2.0)\n",
      "Requirement already satisfied: wcwidth in /home/juan/proyectos/diseno_sci_sfw/lib/python3.7/site-packages (from pytest>=3.6->pytest-cov) (0.1.7)\n",
      "Requirement already satisfied: attrs>=17.4.0 in /home/juan/proyectos/diseno_sci_sfw/lib/python3.7/site-packages (from pytest>=3.6->pytest-cov) (19.1.0)\n",
      "Requirement already satisfied: packaging in /home/juan/proyectos/diseno_sci_sfw/lib/python3.7/site-packages (from pytest>=3.6->pytest-cov) (19.0)\n",
      "Requirement already satisfied: importlib-metadata>=0.12; python_version < \"3.8\" in /home/juan/proyectos/diseno_sci_sfw/lib/python3.7/site-packages (from pytest>=3.6->pytest-cov) (0.20)\n",
      "Requirement already satisfied: py>=1.5.0 in /home/juan/proyectos/diseno_sci_sfw/lib/python3.7/site-packages (from pytest>=3.6->pytest-cov) (1.8.0)\n",
      "Requirement already satisfied: pyparsing>=2.0.2 in /home/juan/proyectos/diseno_sci_sfw/lib/python3.7/site-packages (from packaging->pytest>=3.6->pytest-cov) (2.4.0)\n",
      "Requirement already satisfied: six in /home/juan/proyectos/diseno_sci_sfw/lib/python3.7/site-packages (from packaging->pytest>=3.6->pytest-cov) (1.12.0)\n",
      "Requirement already satisfied: zipp>=0.5 in /home/juan/proyectos/diseno_sci_sfw/lib/python3.7/site-packages (from importlib-metadata>=0.12; python_version < \"3.8\"->pytest>=3.6->pytest-cov) (0.6.0)\n",
      "\u001b[33mWARNING: You are using pip version 19.1.1, however version 19.2.3 is available.\n",
      "You should consider upgrading via the 'pip install --upgrade pip' command.\u001b[0m\n"
     ]
    }
   ],
   "source": [
    "!pip install coverage pytest-cov"
   ]
  },
  {
   "cell_type": "markdown",
   "metadata": {
    "slideshow": {
     "slide_type": "slide"
    }
   },
   "source": [
    "## Vamos con un ejemplo básico"
   ]
  },
  {
   "cell_type": "code",
   "execution_count": 2,
   "metadata": {},
   "outputs": [],
   "source": [
    "# contenido  test_cov.py\n",
    "def division(a, b):\n",
    "    return a / b\n",
    "def sum(a, b):\n",
    "    return a + b\n",
    "def test_division():\n",
    "    assert division(1, 2) == .5\n",
    "def test_sum():\n",
    "    assert sum(1, 2) == 3\n",
    "if __name__ == \"__main__\":\n",
    "    test_division()\n",
    "    test_sum()"
   ]
  },
  {
   "cell_type": "code",
   "execution_count": 3,
   "metadata": {},
   "outputs": [
    {
     "name": "stdout",
     "output_type": "stream",
     "text": [
      "Name               Stmts   Miss  Cover\r\n",
      "--------------------------------------\r\n",
      "code/test_cov.py      11      0   100%\r\n"
     ]
    }
   ],
   "source": [
    "!coverage run code/test_cov.py\n",
    "!coverage report"
   ]
  },
  {
   "cell_type": "markdown",
   "metadata": {
    "slideshow": {
     "slide_type": "slide"
    }
   },
   "source": [
    "## Integrandolo con pytest"
   ]
  },
  {
   "cell_type": "code",
   "execution_count": 4,
   "metadata": {},
   "outputs": [
    {
     "name": "stdout",
     "output_type": "stream",
     "text": [
      "\u001b[1m============================= test session starts ==============================\u001b[0m\r\n",
      "platform linux -- Python 3.7.3, pytest-5.1.2, py-1.8.0, pluggy-0.12.0\r\n",
      "hypothesis profile 'default' -> database=DirectoryBasedExampleDatabase('/home/juan/proyectos/diseno_sci_sfw/src/unidad_2/.hypothesis/examples')\r\n",
      "rootdir: /home/juan/proyectos/diseno_sci_sfw/src/unidad_2\r\n",
      "plugins: cov-2.7.1, hypothesis-4.35.0\r\n",
      "\u001b[1mcollecting ... \u001b[0m\u001b[1m\r",
      "collected 2 items                                                              \u001b[0m\r\n",
      "\r\n",
      "code/test_cov.py \u001b[32m.\u001b[0m\u001b[32m.\u001b[0m\u001b[36m                                                      [100%]\u001b[0m\r\n",
      "\r\n",
      "----------- coverage: platform linux, python 3.7.3-final-0 -----------\r\n",
      "Name               Stmts   Miss  Cover\r\n",
      "--------------------------------------\r\n",
      "code/test_cov.py      11      2    82%\r\n",
      "\r\n",
      "\u001b[31m\u001b[1mFAIL Required test coverage of 90% not reached. Total coverage: 81.82%\r\n",
      "\u001b[0m\r\n",
      "\u001b[32m\u001b[1m============================== 2 passed in 0.02s ===============================\u001b[0m\r\n"
     ]
    }
   ],
   "source": [
    "!pytest code/test_cov.py --cov test_cov --cov-fail-under 90"
   ]
  },
  {
   "cell_type": "code",
   "execution_count": 5,
   "metadata": {},
   "outputs": [
    {
     "name": "stdout",
     "output_type": "stream",
     "text": [
      "Name               Stmts   Miss  Cover   Missing\r\n",
      "------------------------------------------------\r\n",
      "code/test_cov.py      11      2    82%   18-19\r\n"
     ]
    }
   ],
   "source": [
    "!coverage report -m"
   ]
  },
  {
   "cell_type": "markdown",
   "metadata": {
    "slideshow": {
     "slide_type": "slide"
    }
   },
   "source": [
    "## Cerrando\n",
    "\n",
    "- El coverage fracasa rapido si no siguen bien PEP-8 y PEP-20\n",
    "- Es una métrica, tomenla como tal.\n",
    "- Coverage siempre >= 80%"
   ]
  },
  {
   "cell_type": "code",
   "execution_count": null,
   "metadata": {},
   "outputs": [],
   "source": []
  }
 ],
 "metadata": {
  "celltoolbar": "Slideshow",
  "kernelspec": {
   "display_name": "Python 3",
   "language": "python",
   "name": "python3"
  },
  "language_info": {
   "codemirror_mode": {
    "name": "ipython",
    "version": 3
   },
   "file_extension": ".py",
   "mimetype": "text/x-python",
   "name": "python",
   "nbconvert_exporter": "python",
   "pygments_lexer": "ipython3",
   "version": "3.8.2"
  }
 },
 "nbformat": 4,
 "nbformat_minor": 2
}
